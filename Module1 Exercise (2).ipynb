{
 "cells": [
  {
   "cell_type": "markdown",
   "metadata": {},
   "source": [
    "## Questions"
   ]
  },
  {
   "cell_type": "markdown",
   "metadata": {},
   "source": [
    "1. What is a hardware?"
   ]
  },
  {
   "cell_type": "markdown",
   "metadata": {},
   "source": [
    "2. What is a software?"
   ]
  },
  {
   "cell_type": "markdown",
   "metadata": {},
   "source": [
    "Computer Hardware is any part of the computer that is and we can touch such as the case, central processing unit (CPU), random access memory (RAM), monitor, mouse. These are the primary electronic devices used to build up the computer. Examples of hardware in a computer are the Processor, Memory Devices, Monitor, Printer, Keyboard, and the Central Processing Unit"
   ]
  },
  {
   "cell_type": "markdown",
   "metadata": {},
   "source": [
    "Software is a set of computer programs and associated documentation and data. This is in contrast to hardware, from which the system is built and which actually performs the work."
   ]
  },
  {
   "cell_type": "markdown",
   "metadata": {},
   "source": [
    "3. Convert 10011001 to a decimal number"
   ]
  },
  {
   "cell_type": "markdown",
   "metadata": {},
   "source": [
    "128+0+0+16+8+0+0+1\n",
    "128+16+8+1=153"
   ]
  },
  {
   "cell_type": "markdown",
   "metadata": {},
   "source": [
    "4. Convert 11101100 to a decimal number"
   ]
  },
  {
   "cell_type": "markdown",
   "metadata": {},
   "source": [
    "128+64+32+0+8+4+0+0\n",
    "128+64+32+8+4=236"
   ]
  },
  {
   "cell_type": "markdown",
   "metadata": {},
   "source": [
    "5. Decode this secret message:\n",
    "01001100 01101111 01100111 01101001 01100011"
   ]
  },
  {
   "cell_type": "markdown",
   "metadata": {},
   "source": [
    "64+8+4=76 that is L\n",
    "64+32+8+4+2+1=111 that is 0\n",
    "64+32+4+2+1=103 that is g\n",
    "64+32+8+1=105 that is i\n",
    "64+32+4+2+1=103 is c\n",
    "\n",
    "LOGIC\n",
    "\n",
    "\n"
   ]
  },
  {
   "cell_type": "markdown",
   "metadata": {},
   "source": [
    "6. Identify and explain stages of Programming."
   ]
  },
  {
   "cell_type": "code",
   "execution_count": null,
   "metadata": {},
   "outputs": [],
   "source": [
    "Analyze stage :stage includes gathering all the specific details required for a new system as well as determining the first ideas for prototypes. Developers may: Define any prototype system requirements. Evaluate alternatives to existing prototypes.\n",
    "        Identify,Divide and regroup"
   ]
  },
  {
   "cell_type": "markdown",
   "metadata": {},
   "source": [
    "Plan Stage: when the project plan is developed that identifies, prioritizes, and assigns the tasks and resources required to build the structure for a project.\n",
    "IPO algorithm"
   ]
  },
  {
   "cell_type": "code",
   "execution_count": null,
   "metadata": {},
   "outputs": [],
   "source": [
    "Code Stage:Coding is the act of translating the design into an actual program, written in some form of programming language.\n",
    "Coding is writing certain things that need to be included in your program \n",
    "That is the programing language\n",
    "\n",
    "\n"
   ]
  },
  {
   "cell_type": "markdown",
   "metadata": {},
   "source": [
    "7. You need to write a program to compute total sales amount when sales tax is 5%. Identify IPO (inpt, process, output) for this program."
   ]
  },
  {
   "cell_type": "markdown",
   "metadata": {},
   "source": [
    "Type Markdown and LaTeX:  𝛼2\n",
    "\n",
    "Imput:  Sales tax\n",
    "        If Sales tax if 5% Calculate\n",
    "\n",
    "Process\n",
    "     If Sales tax is 0 No\n",
    "     If Sales tax is 1 No\n",
    "     If Sales tax is 2 No\n",
    "     If Sales tax is 3 No\n",
    "     If Sales tax is 4 No\n",
    "     If Sales tax is 5 Yes\n",
    "     Sales Tax *5/100\n",
    "\n",
    "Output:Print Total sales"
   ]
  },
  {
   "cell_type": "markdown",
   "metadata": {},
   "source": [
    "8. Identify IPO for converting liters to US gallons."
   ]
  },
  {
   "cell_type": "markdown",
   "metadata": {},
   "source": [
    "\n",
    "\n",
    "Imput   :Amount in Litres\n",
    "\n",
    "Process 1 liter= * 0.264\n",
    "        US gallons\n",
    "\n",
    "Output : Print the gallons"
   ]
  },
  {
   "cell_type": "markdown",
   "metadata": {},
   "source": [
    "9. Identify IPO for computing a worker's pay. What information/data do you need?"
   ]
  },
  {
   "cell_type": "markdown",
   "metadata": {},
   "source": [
    "Type Markdown and LaTeX:  𝛼2 \n",
    "\n",
    "Imput:Hours worked and the wage rate\n",
    "Process hours per week * Wages\n",
    "Output:Print workers pay"
   ]
  }
 ],
 "metadata": {
  "kernelspec": {
   "display_name": "Python 3 (ipykernel)",
   "language": "python",
   "name": "python3"
  },
  "language_info": {
   "codemirror_mode": {
    "name": "ipython",
    "version": 3
   },
   "file_extension": ".py",
   "mimetype": "text/x-python",
   "name": "python",
   "nbconvert_exporter": "python",
   "pygments_lexer": "ipython3",
   "version": "3.9.12"
  }
 },
 "nbformat": 4,
 "nbformat_minor": 4
}
